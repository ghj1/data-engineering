{
 "cells": [
  {
   "cell_type": "code",
   "execution_count": 1,
   "id": "fae412b8",
   "metadata": {},
   "outputs": [],
   "source": [
    "from pyspark.sql import SparkSession"
   ]
  },
  {
   "cell_type": "code",
   "execution_count": 2,
   "id": "2e80d460",
   "metadata": {},
   "outputs": [],
   "source": [
    "MAX_MEMORY = '5g'\n",
    "spark = SparkSession.builder.appName(\"taxi-fare-perdiction\")\\\n",
    "                .config(\"spark.executor.memory\", MAX_MEMORY)\\\n",
    "                .config(\"spark.driver.memory\", MAX_MEMORY)\\\n",
    "                .getOrCreate()"
   ]
  },
  {
   "cell_type": "code",
   "execution_count": 3,
   "id": "fb740663",
   "metadata": {},
   "outputs": [],
   "source": [
    "trip_files = \"/Users/gimhyeonjeong/data-engineering/01-spark/data/trip_csv/*\""
   ]
  },
  {
   "cell_type": "code",
   "execution_count": 4,
   "id": "123faae7",
   "metadata": {},
   "outputs": [],
   "source": [
    "trips_df = spark.read.csv(f\"file:///{trip_files}\", inferSchema=True, header= True)"
   ]
  },
  {
   "cell_type": "code",
   "execution_count": 5,
   "id": "1337da47",
   "metadata": {},
   "outputs": [
    {
     "name": "stdout",
     "output_type": "stream",
     "text": [
      "root\n",
      " |-- _c0: integer (nullable = true)\n",
      " |-- VendorID: integer (nullable = true)\n",
      " |-- tpep_pickup_datetime: timestamp (nullable = true)\n",
      " |-- tpep_dropoff_datetime: timestamp (nullable = true)\n",
      " |-- passenger_count: double (nullable = true)\n",
      " |-- trip_distance: double (nullable = true)\n",
      " |-- RatecodeID: double (nullable = true)\n",
      " |-- store_and_fwd_flag: string (nullable = true)\n",
      " |-- PULocationID: integer (nullable = true)\n",
      " |-- DOLocationID: integer (nullable = true)\n",
      " |-- payment_type: integer (nullable = true)\n",
      " |-- fare_amount: double (nullable = true)\n",
      " |-- extra: double (nullable = true)\n",
      " |-- mta_tax: double (nullable = true)\n",
      " |-- tip_amount: double (nullable = true)\n",
      " |-- tolls_amount: double (nullable = true)\n",
      " |-- improvement_surcharge: double (nullable = true)\n",
      " |-- total_amount: double (nullable = true)\n",
      " |-- congestion_surcharge: double (nullable = true)\n",
      " |-- airport_fee: double (nullable = true)\n",
      "\n"
     ]
    }
   ],
   "source": [
    "trips_df.printSchema()"
   ]
  },
  {
   "cell_type": "code",
   "execution_count": 6,
   "id": "468007c5",
   "metadata": {},
   "outputs": [],
   "source": [
    "trips_df.createOrReplaceTempView(\"trips\")"
   ]
  },
  {
   "cell_type": "code",
   "execution_count": 10,
   "id": "16ea85f8",
   "metadata": {},
   "outputs": [],
   "source": [
    "query = \"\"\"\n",
    "SELECT \n",
    "    passenger_count,\n",
    "    PULocationID as pickup_location_id,\n",
    "    DOLocationID as dropoff_location_id,\n",
    "    trip_distance,\n",
    "    HOUR(tpep_pickup_datetime) as pickup_time,\n",
    "    DATE_FORMAT(TO_DATE(tpep_pickup_datetime), 'EEEE') AS day_of_week,\n",
    "    total_amount\n",
    "FROM\n",
    "    trips\n",
    "WHERE\n",
    "    total_amount < 5000\n",
    "    AND total_amount > 0\n",
    "    AND trip_distance > 0\n",
    "    AND trip_distance < 500\n",
    "    AND passenger_count < 4\n",
    "    AND TO_DATE(tpep_pickup_datetime) >= '2021-01-01'\n",
    "    AND TO_DATE(tpep_pickup_datetime) < '2021-08-01'\n",
    "\"\"\"\n",
    "data_df = spark.sql(query)\n",
    "data_df.createOrReplaceTempView(\"data\")"
   ]
  },
  {
   "cell_type": "code",
   "execution_count": 11,
   "id": "193e838d",
   "metadata": {},
   "outputs": [
    {
     "name": "stdout",
     "output_type": "stream",
     "text": [
      "+---------------+------------------+-------------------+-------------+-----------+-----------+------------+\n",
      "|passenger_count|pickup_location_id|dropoff_location_id|trip_distance|pickup_time|day_of_week|total_amount|\n",
      "+---------------+------------------+-------------------+-------------+-----------+-----------+------------+\n",
      "|            1.0|               142|                 43|          2.1|          0|     Friday|        11.8|\n",
      "|            1.0|               238|                151|          0.2|          0|     Friday|         4.3|\n",
      "|            1.0|               132|                165|         14.7|          0|     Friday|       51.95|\n",
      "|            0.0|               138|                132|         10.6|          0|     Friday|       36.35|\n",
      "|            1.0|                68|                 33|         4.94|          0|     Friday|       24.36|\n",
      "|            1.0|               224|                 68|          1.6|          0|     Friday|       14.15|\n",
      "|            1.0|                95|                157|          4.1|          0|     Friday|        17.3|\n",
      "|            1.0|                90|                 40|          5.7|          0|     Friday|        21.8|\n",
      "|            1.0|                97|                129|          9.1|          0|     Friday|        28.8|\n",
      "|            2.0|               263|                142|          2.7|          0|     Friday|       18.95|\n",
      "|            3.0|               164|                255|         6.11|          0|     Friday|        24.3|\n",
      "|            2.0|               255|                 80|         1.21|          0|     Friday|       10.79|\n",
      "|            2.0|               138|                166|          7.4|          0|     Friday|       33.92|\n",
      "|            1.0|               236|                237|         1.01|          0|     Friday|        10.3|\n",
      "|            1.0|               142|                239|         0.73|          0|     Friday|       12.09|\n",
      "|            1.0|               238|                166|         1.17|          0|     Friday|       12.36|\n",
      "|            1.0|               239|                238|         0.78|          0|     Friday|        9.96|\n",
      "|            2.0|               151|                142|         1.66|          0|     Friday|        12.3|\n",
      "|            3.0|               239|                142|         0.93|          0|     Friday|         9.3|\n",
      "|            2.0|               238|                142|         1.16|          0|     Friday|       11.84|\n",
      "+---------------+------------------+-------------------+-------------+-----------+-----------+------------+\n",
      "only showing top 20 rows\n",
      "\n"
     ]
    }
   ],
   "source": [
    "data_df.show()"
   ]
  },
  {
   "cell_type": "code",
   "execution_count": 12,
   "id": "ae01b03f",
   "metadata": {},
   "outputs": [
    {
     "name": "stdout",
     "output_type": "stream",
     "text": [
      "root\n",
      " |-- passenger_count: double (nullable = true)\n",
      " |-- pickup_location_id: integer (nullable = true)\n",
      " |-- dropoff_location_id: integer (nullable = true)\n",
      " |-- trip_distance: double (nullable = true)\n",
      " |-- pickup_time: integer (nullable = true)\n",
      " |-- day_of_week: string (nullable = true)\n",
      " |-- total_amount: double (nullable = true)\n",
      "\n"
     ]
    }
   ],
   "source": [
    "data_df.printSchema()"
   ]
  },
  {
   "cell_type": "code",
   "execution_count": 13,
   "id": "009f245d",
   "metadata": {},
   "outputs": [],
   "source": [
    "train_df, test_df = data_df.randomSplit([0.8, 0.2], seed=1)"
   ]
  },
  {
   "cell_type": "code",
   "execution_count": 17,
   "id": "999f0e93",
   "metadata": {},
   "outputs": [],
   "source": [
    "data_dir = \"/Users/gimhyeonjeong/data-engineering/01-spark/data/\""
   ]
  },
  {
   "cell_type": "code",
   "execution_count": 18,
   "id": "8b018131",
   "metadata": {},
   "outputs": [],
   "source": [
    "train_df.write.format(\"parquet\").save(f\"{data_dir}/train/\")\n",
    "test_df.write.format(\"parquet\").save(f\"{data_dir}/test/\")"
   ]
  },
  {
   "cell_type": "code",
   "execution_count": 20,
   "id": "3b59d2ee",
   "metadata": {},
   "outputs": [],
   "source": [
    "train_df = spark.read.parquet(f\"{data_dir}/train/\")\n",
    "test_df = spark.read.parquet(f\"{data_dir}/test/\")"
   ]
  },
  {
   "cell_type": "code",
   "execution_count": 21,
   "id": "de006087",
   "metadata": {},
   "outputs": [
    {
     "name": "stdout",
     "output_type": "stream",
     "text": [
      "root\n",
      " |-- passenger_count: double (nullable = true)\n",
      " |-- pickup_location_id: integer (nullable = true)\n",
      " |-- dropoff_location_id: integer (nullable = true)\n",
      " |-- trip_distance: double (nullable = true)\n",
      " |-- pickup_time: integer (nullable = true)\n",
      " |-- day_of_week: string (nullable = true)\n",
      " |-- total_amount: double (nullable = true)\n",
      "\n"
     ]
    }
   ],
   "source": [
    "train_df.printSchema()"
   ]
  },
  {
   "cell_type": "code",
   "execution_count": 25,
   "id": "6c206f55",
   "metadata": {},
   "outputs": [],
   "source": [
    "from pyspark.ml.feature import OneHotEncoder, StringIndexer\n",
    "\n",
    "cat_feats = [\n",
    "    \"pickup_location_id\",\n",
    "    \"dropoff_location_id\",\n",
    "    \"day_of_week\"\n",
    "]\n",
    "\n",
    "stages = []\n",
    "\n",
    "for c in cat_feats:\n",
    "    cat_indexer = StringIndexer(inputCol= c, outputCol= c + \"_idx\").setHandleInvalid(\"keep\")\n",
    "    onehot_encoder = OneHotEncoder(inputCols=[cat_indexer.getOutputCol()], outputCols=[c + \"_onehot\"])\n",
    "    stages += [cat_indexer, onehot_encoder]"
   ]
  },
  {
   "cell_type": "code",
   "execution_count": 26,
   "id": "98a2e21e",
   "metadata": {},
   "outputs": [
    {
     "data": {
      "text/plain": [
       "[StringIndexer_875b27c36a4b,\n",
       " OneHotEncoder_854d6964db75,\n",
       " StringIndexer_5fff85e80ee1,\n",
       " OneHotEncoder_b710ff7015e8,\n",
       " StringIndexer_afe3f092d53c,\n",
       " OneHotEncoder_bb0e7dccbcb9]"
      ]
     },
     "execution_count": 26,
     "metadata": {},
     "output_type": "execute_result"
    }
   ],
   "source": [
    "stages"
   ]
  },
  {
   "cell_type": "code",
   "execution_count": 29,
   "id": "17c24b60",
   "metadata": {},
   "outputs": [],
   "source": [
    "from pyspark.ml.feature import VectorAssembler, StandardScaler\n",
    "\n",
    "num_feats = [\n",
    "    \"passenger_count\",\n",
    "    \"trip_distance\",\n",
    "    \"pickup_time\"\n",
    "]\n",
    "\n",
    "for n in num_feats:\n",
    "    num_assembler = VectorAssembler(inputCols=[n], outputCol= n + \"_vector\")\n",
    "    num_scaler = StandardScaler(inputCol = num_assembler.getOutputCol(), outputCol = n + \"_scaled\")\n",
    "    stages += [num_assembler, num_scaler]"
   ]
  },
  {
   "cell_type": "code",
   "execution_count": 30,
   "id": "d96b26a8",
   "metadata": {},
   "outputs": [
    {
     "data": {
      "text/plain": [
       "[StringIndexer_875b27c36a4b,\n",
       " OneHotEncoder_854d6964db75,\n",
       " StringIndexer_5fff85e80ee1,\n",
       " OneHotEncoder_b710ff7015e8,\n",
       " StringIndexer_afe3f092d53c,\n",
       " OneHotEncoder_bb0e7dccbcb9,\n",
       " VectorAssembler_0088d577bc96,\n",
       " StandardScaler_f05a32107fea,\n",
       " VectorAssembler_afeee0f10b3d,\n",
       " StandardScaler_e9ab3cd1b821,\n",
       " VectorAssembler_b1a1cfdd1e22,\n",
       " StandardScaler_47282d9fd7a7]"
      ]
     },
     "execution_count": 30,
     "metadata": {},
     "output_type": "execute_result"
    }
   ],
   "source": [
    "stages"
   ]
  },
  {
   "cell_type": "code",
   "execution_count": 39,
   "id": "7bd3a869",
   "metadata": {},
   "outputs": [],
   "source": [
    "assembler_inputs = [c + \"_onehot\" for c in cat_feats] + [n + \"_scaled\" for n in num_feats]\n",
    "assembler = VectorAssembler(inputCols = assembler_inputs, outputCol= \"feature_vector\")\n",
    "stages += [assembler]"
   ]
  },
  {
   "cell_type": "code",
   "execution_count": 41,
   "id": "6985f1e4",
   "metadata": {},
   "outputs": [
    {
     "data": {
      "text/plain": [
       "[StringIndexer_875b27c36a4b,\n",
       " OneHotEncoder_854d6964db75,\n",
       " StringIndexer_5fff85e80ee1,\n",
       " OneHotEncoder_b710ff7015e8,\n",
       " StringIndexer_afe3f092d53c,\n",
       " OneHotEncoder_bb0e7dccbcb9,\n",
       " VectorAssembler_0088d577bc96,\n",
       " StandardScaler_f05a32107fea,\n",
       " VectorAssembler_afeee0f10b3d,\n",
       " StandardScaler_e9ab3cd1b821,\n",
       " VectorAssembler_b1a1cfdd1e22,\n",
       " StandardScaler_47282d9fd7a7,\n",
       " VectorAssembler_c0f1e34a5cc1]"
      ]
     },
     "execution_count": 41,
     "metadata": {},
     "output_type": "execute_result"
    }
   ],
   "source": [
    "stages"
   ]
  },
  {
   "cell_type": "code",
   "execution_count": 40,
   "id": "6702cf55",
   "metadata": {},
   "outputs": [],
   "source": [
    "from pyspark.ml import Pipeline\n",
    "\n",
    "transform_stages = stages \n",
    "pipeline = Pipeline(stages = transform_stages)\n",
    "fitted_transformer = pipeline.fit(train_df)"
   ]
  },
  {
   "cell_type": "code",
   "execution_count": 42,
   "id": "94ae2a8f",
   "metadata": {},
   "outputs": [],
   "source": [
    "vtrain_df = fitted_transformer.transform(train_df)"
   ]
  },
  {
   "cell_type": "code",
   "execution_count": 43,
   "id": "686edfe0",
   "metadata": {},
   "outputs": [],
   "source": [
    "from pyspark.ml.regression import LinearRegression \n",
    "\n",
    "lr = LinearRegression(\n",
    "    maxIter = 5,\n",
    "    solver = \"normal\",\n",
    "    labelCol = \"total_amount\",\n",
    "    featuresCol = \"feature_vector\"\n",
    ")"
   ]
  },
  {
   "cell_type": "code",
   "execution_count": 44,
   "id": "477d07c6",
   "metadata": {},
   "outputs": [
    {
     "name": "stdout",
     "output_type": "stream",
     "text": [
      "root\n",
      " |-- passenger_count: double (nullable = true)\n",
      " |-- pickup_location_id: integer (nullable = true)\n",
      " |-- dropoff_location_id: integer (nullable = true)\n",
      " |-- trip_distance: double (nullable = true)\n",
      " |-- pickup_time: integer (nullable = true)\n",
      " |-- day_of_week: string (nullable = true)\n",
      " |-- total_amount: double (nullable = true)\n",
      " |-- pickup_location_id_idx: double (nullable = false)\n",
      " |-- pickup_location_id_onehot: vector (nullable = true)\n",
      " |-- dropoff_location_id_idx: double (nullable = false)\n",
      " |-- dropoff_location_id_onehot: vector (nullable = true)\n",
      " |-- day_of_week_idx: double (nullable = false)\n",
      " |-- day_of_week_onehot: vector (nullable = true)\n",
      " |-- passenger_count_vector: vector (nullable = true)\n",
      " |-- passenger_count_scaled: vector (nullable = true)\n",
      " |-- trip_distance_vector: vector (nullable = true)\n",
      " |-- trip_distance_scaled: vector (nullable = true)\n",
      " |-- pickup_time_vector: vector (nullable = true)\n",
      " |-- pickup_time_scaled: vector (nullable = true)\n",
      " |-- feature_vector: vector (nullable = true)\n",
      "\n"
     ]
    }
   ],
   "source": [
    "vtrain_df.printSchema()"
   ]
  },
  {
   "cell_type": "code",
   "execution_count": 45,
   "id": "a19e4308",
   "metadata": {},
   "outputs": [],
   "source": [
    "model = lr.fit(vtrain_df)"
   ]
  },
  {
   "cell_type": "code",
   "execution_count": 46,
   "id": "53f16a70",
   "metadata": {},
   "outputs": [],
   "source": [
    "vtest_df = fitted_transformer.transform(test_df)"
   ]
  },
  {
   "cell_type": "code",
   "execution_count": 48,
   "id": "5df2edd4",
   "metadata": {},
   "outputs": [],
   "source": [
    "predictions = model.transform(vtest_df)"
   ]
  },
  {
   "cell_type": "code",
   "execution_count": 49,
   "id": "1b527f87",
   "metadata": {},
   "outputs": [
    {
     "data": {
      "text/plain": [
       "DataFrame[passenger_count: double, pickup_location_id: int, dropoff_location_id: int, trip_distance: double, pickup_time: int, day_of_week: string, total_amount: double, pickup_location_id_idx: double, pickup_location_id_onehot: vector, dropoff_location_id_idx: double, dropoff_location_id_onehot: vector, day_of_week_idx: double, day_of_week_onehot: vector, passenger_count_vector: vector, passenger_count_scaled: vector, trip_distance_vector: vector, trip_distance_scaled: vector, pickup_time_vector: vector, pickup_time_scaled: vector, feature_vector: vector, prediction: double]"
      ]
     },
     "execution_count": 49,
     "metadata": {},
     "output_type": "execute_result"
    }
   ],
   "source": [
    "predictions.cache()"
   ]
  },
  {
   "cell_type": "code",
   "execution_count": 50,
   "id": "40a09fb6",
   "metadata": {},
   "outputs": [
    {
     "name": "stdout",
     "output_type": "stream",
     "text": [
      "+---------------+------------------+-------------------+-------------+-----------+-----------+------------+----------------------+-------------------------+-----------------------+--------------------------+---------------+------------------+----------------------+----------------------+--------------------+--------------------+------------------+--------------------+--------------------+------------------+\n",
      "|passenger_count|pickup_location_id|dropoff_location_id|trip_distance|pickup_time|day_of_week|total_amount|pickup_location_id_idx|pickup_location_id_onehot|dropoff_location_id_idx|dropoff_location_id_onehot|day_of_week_idx|day_of_week_onehot|passenger_count_vector|passenger_count_scaled|trip_distance_vector|trip_distance_scaled|pickup_time_vector|  pickup_time_scaled|      feature_vector|        prediction|\n",
      "+---------------+------------------+-------------------+-------------+-----------+-----------+------------+----------------------+-------------------------+-----------------------+--------------------------+---------------+------------------+----------------------+----------------------+--------------------+--------------------+------------------+--------------------+--------------------+------------------+\n",
      "|            0.0|                 4|                 79|          0.7|         23|   Saturday|       12.35|                  62.0|         (263,[62],[1.0])|                   17.0|          (261,[17],[1.0])|            4.0|     (7,[4],[1.0])|                 [0.0]|                 [0.0]|               [0.7]|[0.18336070949125...|            [23.0]|[4.4933276880258815]|(534,[62,280,528,...|12.502162410916714|\n",
      "|            0.0|                 4|                141|          3.1|          9|    Tuesday|        18.0|                  62.0|         (263,[62],[1.0])|                    2.0|           (261,[2],[1.0])|            3.0|     (7,[3],[1.0])|                 [0.0]|                 [0.0]|               [3.1]| [0.812025999175545]|             [9.0]|[1.7582586605318669]|(534,[62,265,527,...| 17.78264885094742|\n",
      "|            0.0|                 4|                231|          2.1|         23|   Saturday|       15.35|                  62.0|         (263,[62],[1.0])|                   31.0|          (261,[31],[1.0])|            4.0|     (7,[4],[1.0])|                 [0.0]|                 [0.0]|               [2.1]|[0.5500821284737563]|            [23.0]|[4.4933276880258815]|(534,[62,294,528,...|16.787068747705387|\n",
      "|            0.0|                 4|                234|          1.7|         18|   Saturday|        13.3|                  62.0|         (263,[62],[1.0])|                   12.0|          (261,[12],[1.0])|            4.0|     (7,[4],[1.0])|                 [0.0]|                 [0.0]|               [1.7]|[0.4453045801930408]|            [18.0]|[3.5165173210637337]|(534,[62,275,528,...|14.298237840437643|\n",
      "|            0.0|                 4|                236|          4.1|         15|     Friday|        21.3|                  62.0|         (263,[62],[1.0])|                    0.0|           (261,[0],[1.0])|            0.0|     (7,[0],[1.0])|                 [0.0]|                 [0.0]|               [4.1]|[1.0739698698773337]|            [15.0]|[2.9304311008864445]|(534,[62,263,524,...|20.893785642932762|\n",
      "|            0.0|                 7|                  7|          1.4|         14|     Friday|         8.3|                  63.0|         (263,[63],[1.0])|                   57.0|          (261,[57],[1.0])|            0.0|     (7,[0],[1.0])|                 [0.0]|                 [0.0]|               [1.4]|[0.36672141898250...|            [14.0]| [2.735069027494015]|(534,[63,320,524,...|11.950093031236984|\n",
      "|            0.0|                 7|                 65|          7.3|          7|    Tuesday|        29.3|                  63.0|         (263,[63],[1.0])|                   77.0|          (261,[77],[1.0])|            3.0|     (7,[3],[1.0])|                 [0.0]|                 [0.0]|               [7.3]|[1.9121902561230575]|             [7.0]|[1.3675345137470074]|(534,[63,340,527,...|27.652166598371807|\n",
      "|            0.0|                 7|                146|          0.7|         11|  Wednesday|         5.8|                  63.0|         (263,[63],[1.0])|                   86.0|          (261,[86],[1.0])|            2.0|     (7,[2],[1.0])|                 [0.0]|                 [0.0]|               [0.7]|[0.18336070949125...|            [11.0]| [2.148982807316726]|(534,[63,349,526,...|  9.63923529763698|\n",
      "|            0.0|                 7|                186|          5.0|          8|  Wednesday|        24.3|                  63.0|         (263,[63],[1.0])|                   16.0|          (261,[16],[1.0])|            2.0|     (7,[2],[1.0])|                 [0.0]|                 [0.0]|               [5.0]|[1.3097193535089435]|             [8.0]|[1.5628965871394371]|(534,[63,279,526,...|21.248267279006047|\n",
      "|            0.0|                10|                 10|          6.7|         22|   Saturday|        29.8|                  84.0|         (263,[84],[1.0])|                   99.0|          (261,[99],[1.0])|            4.0|     (7,[4],[1.0])|                 [0.0]|                 [0.0]|               [6.7]|[1.7550239337019844]|            [22.0]| [4.297965614633452]|(534,[84,362,528,...| 35.68814837777281|\n",
      "|            0.0|                10|                140|         16.8|         18|     Friday|       82.37|                  84.0|         (263,[84],[1.0])|                   10.0|          (261,[10],[1.0])|            0.0|     (7,[0],[1.0])|                 [0.0]|                 [0.0]|              [16.8]|  [4.40065702779005]|            [18.0]|[3.5165173210637337]|(534,[84,273,524,...| 71.71520136691043|\n",
      "|            0.0|                10|                241|         29.3|         11|     Monday|        80.8|                  84.0|         (263,[84],[1.0])|                  142.0|         (261,[142],[1.0])|            5.0|     (7,[5],[1.0])|                 [0.0]|                 [0.0]|              [29.3]|  [7.67495541156241]|            [11.0]| [2.148982807316726]|(534,[84,405,529,...|102.87405109139928|\n",
      "|            0.0|                12|                246|          4.1|         14|     Friday|        20.8|                  71.0|         (263,[71],[1.0])|                   24.0|          (261,[24],[1.0])|            0.0|     (7,[0],[1.0])|                 [0.0]|                 [0.0]|               [4.1]|[1.0739698698773337]|            [14.0]| [2.735069027494015]|(534,[71,287,524,...| 22.31762454838676|\n",
      "|            0.0|                13|                 13|          0.1|          7|  Wednesday|        55.3|                  47.0|         (263,[47],[1.0])|                   44.0|          (261,[44],[1.0])|            2.0|     (7,[2],[1.0])|                 [0.0]|                 [0.0]|               [0.1]|[0.02619438707017...|             [7.0]|[1.3675345137470074]|(534,[47,307,526,...|13.005292130524555|\n",
      "|            0.0|                13|                 13|          0.7|         16|  Wednesday|        10.3|                  47.0|         (263,[47],[1.0])|                   44.0|          (261,[44],[1.0])|            2.0|     (7,[2],[1.0])|                 [0.0]|                 [0.0]|               [0.7]|[0.18336070949125...|            [16.0]|[3.1257931742788743]|(534,[47,307,526,...|14.946291485698731|\n",
      "|            0.0|                13|                 33|          3.7|         13|  Wednesday|        17.8|                  47.0|         (263,[47],[1.0])|                   61.0|          (261,[61],[1.0])|            2.0|     (7,[2],[1.0])|                 [0.0]|                 [0.0]|               [3.7]|[0.9691923215966183]|            [13.0]|[2.5397069541015855]|(534,[47,324,526,...| 22.55906077348517|\n",
      "|            0.0|                13|                 68|          2.4|         15|    Tuesday|        14.8|                  47.0|         (263,[47],[1.0])|                   14.0|          (261,[14],[1.0])|            3.0|     (7,[3],[1.0])|                 [0.0]|                 [0.0]|               [2.4]|[0.6286652896842929]|            [15.0]|[2.9304311008864445]|(534,[47,277,527,...|17.427773917635776|\n",
      "|            0.0|                13|                 79|          4.5|         10|     Friday|       26.35|                  47.0|         (263,[47],[1.0])|                   17.0|          (261,[17],[1.0])|            0.0|     (7,[0],[1.0])|                 [0.0]|                 [0.0]|               [4.5]| [1.178747418158049]|            [10.0]|[1.9536207339242964]|(534,[47,280,524,...| 22.76185842391433|\n",
      "|            0.0|                13|                 90|          3.4|          8|  Wednesday|       21.95|                  47.0|         (263,[47],[1.0])|                   28.0|          (261,[28],[1.0])|            2.0|     (7,[2],[1.0])|                 [0.0]|                 [0.0]|               [3.4]|[0.8906091603860816]|             [8.0]|[1.5628965871394371]|(534,[47,291,526,...|19.410529588643143|\n",
      "|            0.0|                13|                100|          4.0|          8|   Thursday|        20.8|                  47.0|         (263,[47],[1.0])|                   30.0|          (261,[30],[1.0])|            1.0|     (7,[1],[1.0])|                 [0.0]|                 [0.0]|               [4.0]|[1.0477754828071548]|             [8.0]|[1.5628965871394371]|(534,[47,293,525,...| 21.38233130249924|\n",
      "+---------------+------------------+-------------------+-------------+-----------+-----------+------------+----------------------+-------------------------+-----------------------+--------------------------+---------------+------------------+----------------------+----------------------+--------------------+--------------------+------------------+--------------------+--------------------+------------------+\n",
      "only showing top 20 rows\n",
      "\n"
     ]
    }
   ],
   "source": [
    "predictions.show()"
   ]
  },
  {
   "cell_type": "code",
   "execution_count": 51,
   "id": "73bbafb7",
   "metadata": {},
   "outputs": [
    {
     "name": "stdout",
     "output_type": "stream",
     "text": [
      "+-------------+-----------+------------+------------------+\n",
      "|trip_distance|day_of_week|total_amount|        prediction|\n",
      "+-------------+-----------+------------+------------------+\n",
      "|          0.7|   Saturday|       12.35|12.502162410916714|\n",
      "|          3.1|    Tuesday|        18.0| 17.78264885094742|\n",
      "|          2.1|   Saturday|       15.35|16.787068747705387|\n",
      "|          1.7|   Saturday|        13.3|14.298237840437643|\n",
      "|          4.1|     Friday|        21.3|20.893785642932762|\n",
      "|          1.4|     Friday|         8.3|11.950093031236984|\n",
      "|          7.3|    Tuesday|        29.3|27.652166598371807|\n",
      "|          0.7|  Wednesday|         5.8|  9.63923529763698|\n",
      "|          5.0|  Wednesday|        24.3|21.248267279006047|\n",
      "|          6.7|   Saturday|        29.8| 35.68814837777281|\n",
      "|         16.8|     Friday|       82.37| 71.71520136691043|\n",
      "|         29.3|     Monday|        80.8|102.87405109139928|\n",
      "|          4.1|     Friday|        20.8| 22.31762454838676|\n",
      "|          0.1|  Wednesday|        55.3|13.005292130524555|\n",
      "|          0.7|  Wednesday|        10.3|14.946291485698731|\n",
      "|          3.7|  Wednesday|        17.8| 22.55906077348517|\n",
      "|          2.4|    Tuesday|        14.8|17.427773917635776|\n",
      "|          4.5|     Friday|       26.35| 22.76185842391433|\n",
      "|          3.4|  Wednesday|       21.95|19.410529588643143|\n",
      "|          4.0|   Thursday|        20.8| 21.38233130249924|\n",
      "+-------------+-----------+------------+------------------+\n",
      "only showing top 20 rows\n",
      "\n"
     ]
    }
   ],
   "source": [
    "predictions.select([\"trip_distance\", \"day_of_week\", \"total_amount\", \"prediction\"]).show()"
   ]
  },
  {
   "cell_type": "code",
   "execution_count": 53,
   "id": "b544ed05",
   "metadata": {},
   "outputs": [
    {
     "data": {
      "text/plain": [
       "5.856854592689126"
      ]
     },
     "execution_count": 53,
     "metadata": {},
     "output_type": "execute_result"
    }
   ],
   "source": [
    "model.summary.rootMeanSquaredError"
   ]
  },
  {
   "cell_type": "code",
   "execution_count": 55,
   "id": "e0e2a1ae",
   "metadata": {},
   "outputs": [
    {
     "data": {
      "text/plain": [
       "0.7964059503830232"
      ]
     },
     "execution_count": 55,
     "metadata": {},
     "output_type": "execute_result"
    }
   ],
   "source": [
    "model.summary.r2"
   ]
  },
  {
   "cell_type": "code",
   "execution_count": null,
   "id": "c1b8b0b0",
   "metadata": {},
   "outputs": [],
   "source": []
  }
 ],
 "metadata": {
  "kernelspec": {
   "display_name": "Python 3",
   "language": "python",
   "name": "python3"
  },
  "language_info": {
   "codemirror_mode": {
    "name": "ipython",
    "version": 3
   },
   "file_extension": ".py",
   "mimetype": "text/x-python",
   "name": "python",
   "nbconvert_exporter": "python",
   "pygments_lexer": "ipython3",
   "version": "3.8.8"
  }
 },
 "nbformat": 4,
 "nbformat_minor": 5
}
