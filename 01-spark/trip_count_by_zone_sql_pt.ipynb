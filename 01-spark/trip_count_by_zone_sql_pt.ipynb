{
 "cells": [
  {
   "cell_type": "code",
   "execution_count": 1,
   "id": "95de244e",
   "metadata": {},
   "outputs": [],
   "source": [
    "from pyspark.sql import SparkSession"
   ]
  },
  {
   "cell_type": "code",
   "execution_count": 2,
   "id": "4b45b69a",
   "metadata": {},
   "outputs": [],
   "source": [
    "spark = SparkSession.builder.appName(\"trip_count_by_zone_sql\").getOrCreate()"
   ]
  },
  {
   "cell_type": "code",
   "execution_count": 5,
   "id": "c38bb4f1",
   "metadata": {},
   "outputs": [],
   "source": [
    "directory = \"/Users/gimhyeonjeong/data-engineering/01-spark/data\"\n",
    "trip_file = \"fhvhv_tripdata_2020-03.csv\"\n",
    "zone_file = \"taxi+_zone_lookup.csv\""
   ]
  },
  {
   "cell_type": "code",
   "execution_count": 7,
   "id": "457ec773",
   "metadata": {},
   "outputs": [],
   "source": [
    "trip_data = spark.read.csv(f\"file:///{directory}/{trip_file}\", inferSchema = True, header= True)\n",
    "zone_data = spark.read.csv(f\"file:///{directory}/{zone_file}\", inferSchema = True, header= True)"
   ]
  },
  {
   "cell_type": "code",
   "execution_count": 8,
   "id": "025c37fa",
   "metadata": {},
   "outputs": [
    {
     "name": "stdout",
     "output_type": "stream",
     "text": [
      "+---+-----------------+--------------------+--------------------+-------------------+-------------------+-------------------+-------------------+------------+------------+----------+---------+-------------------+-----+----+---------+--------------------+-----------+----+----------+-------------------+-----------------+------------------+----------------+--------------+\n",
      "|_c0|hvfhs_license_num|dispatching_base_num|originating_base_num|   request_datetime|  on_scene_datetime|    pickup_datetime|   dropoff_datetime|PULocationID|DOLocationID|trip_miles|trip_time|base_passenger_fare|tolls| bcf|sales_tax|congestion_surcharge|airport_fee|tips|driver_pay|shared_request_flag|shared_match_flag|access_a_ride_flag|wav_request_flag|wav_match_flag|\n",
      "+---+-----------------+--------------------+--------------------+-------------------+-------------------+-------------------+-------------------+------------+------------+----------+---------+-------------------+-----+----+---------+--------------------+-----------+----+----------+-------------------+-----------------+------------------+----------------+--------------+\n",
      "|  0|           HV0005|              B02510|                null|2020-03-01 00:00:12|               null|2020-03-01 00:03:40|2020-03-01 00:23:39|          81|         159|     8.655|     1199|              24.45|  0.0|0.54|      1.9|                 0.0|       null| 0.0|     19.65|                  N|                N|                 N|               N|             N|\n",
      "|  1|           HV0005|              B02510|                null|2020-03-01 00:22:03|               null|2020-03-01 00:28:05|2020-03-01 00:38:57|         168|         119|     3.523|      652|              11.88|  0.0|0.24|     0.85|                 0.0|       null| 0.0|      9.37|                  N|                N|                 N|               N|             N|\n",
      "|  2|           HV0003|              B02764|              B02764|2020-02-29 23:57:45|2020-03-01 00:01:04|2020-03-01 00:03:07|2020-03-01 00:15:04|         137|         209|      4.07|      717|              14.57|  0.0|0.38|     1.38|                2.75|       null| 0.0|     16.24|                  N|                Y|                  |               N|             N|\n",
      "|  3|           HV0003|              B02764|              B02764|2020-03-01 00:04:06|2020-03-01 00:15:48|2020-03-01 00:18:42|2020-03-01 00:38:42|         209|          80|      4.73|     1200|              13.89|  0.0|0.35|     1.23|                0.75|       null| 0.0|     21.76|                  Y|                N|                  |               N|             N|\n",
      "|  4|           HV0003|              B02764|              B02764|2020-03-01 00:42:46|2020-03-01 00:43:18|2020-03-01 00:44:24|2020-03-01 00:58:44|         256|         226|      4.03|      860|               20.2|  0.0|0.51|     1.79|                 0.0|       null| 0.0|     19.64|                  N|                N|                  |               N|             N|\n",
      "+---+-----------------+--------------------+--------------------+-------------------+-------------------+-------------------+-------------------+------------+------------+----------+---------+-------------------+-----+----+---------+--------------------+-----------+----+----------+-------------------+-----------------+------------------+----------------+--------------+\n",
      "only showing top 5 rows\n",
      "\n"
     ]
    }
   ],
   "source": [
    "trip_data.show(5)"
   ]
  },
  {
   "cell_type": "code",
   "execution_count": 9,
   "id": "f0f5052f",
   "metadata": {},
   "outputs": [
    {
     "name": "stdout",
     "output_type": "stream",
     "text": [
      "+----------+-------------+--------------------+------------+\n",
      "|LocationID|      Borough|                Zone|service_zone|\n",
      "+----------+-------------+--------------------+------------+\n",
      "|         1|          EWR|      Newark Airport|         EWR|\n",
      "|         2|       Queens|         Jamaica Bay|   Boro Zone|\n",
      "|         3|        Bronx|Allerton/Pelham G...|   Boro Zone|\n",
      "|         4|    Manhattan|       Alphabet City| Yellow Zone|\n",
      "|         5|Staten Island|       Arden Heights|   Boro Zone|\n",
      "+----------+-------------+--------------------+------------+\n",
      "only showing top 5 rows\n",
      "\n"
     ]
    }
   ],
   "source": [
    "zone_data.show(5)"
   ]
  },
  {
   "cell_type": "code",
   "execution_count": 10,
   "id": "8b515a7f",
   "metadata": {},
   "outputs": [],
   "source": [
    "trip_data.createOrReplaceTempView(\"trip_data\")\n",
    "zone_data.createOrReplaceTempView(\"zone_data\")"
   ]
  },
  {
   "cell_type": "code",
   "execution_count": 11,
   "id": "274ba730",
   "metadata": {},
   "outputs": [
    {
     "name": "stdout",
     "output_type": "stream",
     "text": [
      "+---+-----------------+--------------------+--------------------+-------------------+-------------------+-------------------+-------------------+------------+------------+----------+---------+-------------------+-----+----+---------+--------------------+-----------+----+----------+-------------------+-----------------+------------------+----------------+--------------+\n",
      "|_c0|hvfhs_license_num|dispatching_base_num|originating_base_num|   request_datetime|  on_scene_datetime|    pickup_datetime|   dropoff_datetime|PULocationID|DOLocationID|trip_miles|trip_time|base_passenger_fare|tolls| bcf|sales_tax|congestion_surcharge|airport_fee|tips|driver_pay|shared_request_flag|shared_match_flag|access_a_ride_flag|wav_request_flag|wav_match_flag|\n",
      "+---+-----------------+--------------------+--------------------+-------------------+-------------------+-------------------+-------------------+------------+------------+----------+---------+-------------------+-----+----+---------+--------------------+-----------+----+----------+-------------------+-----------------+------------------+----------------+--------------+\n",
      "|  0|           HV0005|              B02510|                null|2020-03-01 00:00:12|               null|2020-03-01 00:03:40|2020-03-01 00:23:39|          81|         159|     8.655|     1199|              24.45|  0.0|0.54|      1.9|                 0.0|       null| 0.0|     19.65|                  N|                N|                 N|               N|             N|\n",
      "|  1|           HV0005|              B02510|                null|2020-03-01 00:22:03|               null|2020-03-01 00:28:05|2020-03-01 00:38:57|         168|         119|     3.523|      652|              11.88|  0.0|0.24|     0.85|                 0.0|       null| 0.0|      9.37|                  N|                N|                 N|               N|             N|\n",
      "|  2|           HV0003|              B02764|              B02764|2020-02-29 23:57:45|2020-03-01 00:01:04|2020-03-01 00:03:07|2020-03-01 00:15:04|         137|         209|      4.07|      717|              14.57|  0.0|0.38|     1.38|                2.75|       null| 0.0|     16.24|                  N|                Y|                  |               N|             N|\n",
      "|  3|           HV0003|              B02764|              B02764|2020-03-01 00:04:06|2020-03-01 00:15:48|2020-03-01 00:18:42|2020-03-01 00:38:42|         209|          80|      4.73|     1200|              13.89|  0.0|0.35|     1.23|                0.75|       null| 0.0|     21.76|                  Y|                N|                  |               N|             N|\n",
      "|  4|           HV0003|              B02764|              B02764|2020-03-01 00:42:46|2020-03-01 00:43:18|2020-03-01 00:44:24|2020-03-01 00:58:44|         256|         226|      4.03|      860|               20.2|  0.0|0.51|     1.79|                 0.0|       null| 0.0|     19.64|                  N|                N|                  |               N|             N|\n",
      "+---+-----------------+--------------------+--------------------+-------------------+-------------------+-------------------+-------------------+------------+------------+----------+---------+-------------------+-----+----+---------+--------------------+-----------+----+----------+-------------------+-----------------+------------------+----------------+--------------+\n",
      "\n"
     ]
    }
   ],
   "source": [
    "spark.sql(\"select *from trip_data limit 5\").show()"
   ]
  },
  {
   "cell_type": "code",
   "execution_count": 12,
   "id": "d0413612",
   "metadata": {},
   "outputs": [
    {
     "name": "stdout",
     "output_type": "stream",
     "text": [
      "+----------+-------------+--------------------+------------+\n",
      "|LocationID|      Borough|                Zone|service_zone|\n",
      "+----------+-------------+--------------------+------------+\n",
      "|         1|          EWR|      Newark Airport|         EWR|\n",
      "|         2|       Queens|         Jamaica Bay|   Boro Zone|\n",
      "|         3|        Bronx|Allerton/Pelham G...|   Boro Zone|\n",
      "|         4|    Manhattan|       Alphabet City| Yellow Zone|\n",
      "|         5|Staten Island|       Arden Heights|   Boro Zone|\n",
      "+----------+-------------+--------------------+------------+\n",
      "\n"
     ]
    }
   ],
   "source": [
    "spark.sql(\"select *from zone_data limit 5\").show()"
   ]
  },
  {
   "cell_type": "code",
   "execution_count": 14,
   "id": "6e0e51d7",
   "metadata": {
    "scrolled": true
   },
   "outputs": [
    {
     "name": "stdout",
     "output_type": "stream",
     "text": [
      "+---------+\n",
      "|  Borough|\n",
      "+---------+\n",
      "|    Bronx|\n",
      "|    Bronx|\n",
      "|Manhattan|\n",
      "|Manhattan|\n",
      "| Brooklyn|\n",
      "|Manhattan|\n",
      "| Brooklyn|\n",
      "| Brooklyn|\n",
      "| Brooklyn|\n",
      "|    Bronx|\n",
      "|    Bronx|\n",
      "|    Bronx|\n",
      "|Manhattan|\n",
      "|Manhattan|\n",
      "|    Bronx|\n",
      "|    Bronx|\n",
      "|Manhattan|\n",
      "|Manhattan|\n",
      "|Manhattan|\n",
      "|   Queens|\n",
      "+---------+\n",
      "only showing top 20 rows\n",
      "\n"
     ]
    }
   ],
   "source": [
    "spark.sql(\"select zone_data.Borough from trip_data join zone_data on trip_data.PULocationID = zone_data.LocationID\").show()"
   ]
  },
  {
   "cell_type": "code",
   "execution_count": 18,
   "id": "a1983d3e",
   "metadata": {},
   "outputs": [
    {
     "name": "stdout",
     "output_type": "stream",
     "text": [
      "+-------------+-------+\n",
      "|      borough|  trips|\n",
      "+-------------+-------+\n",
      "|       Queens|2437394|\n",
      "|          EWR|    362|\n",
      "|      Unknown|    845|\n",
      "|     Brooklyn|3735765|\n",
      "|Staten Island| 178818|\n",
      "|    Manhattan|4953147|\n",
      "|        Bronx|2086597|\n",
      "+-------------+-------+\n",
      "\n"
     ]
    }
   ],
   "source": [
    "spark.sql(\"select borough, count(*) as trips from \\\n",
    "(select zone_data.Borough as borough \\\n",
    "from trip_data join zone_data on trip_data.PULocationID = zone_data.LocationID)\\\n",
    "group by borough\").show()"
   ]
  },
  {
   "cell_type": "code",
   "execution_count": 19,
   "id": "6fd8015f",
   "metadata": {},
   "outputs": [
    {
     "name": "stdout",
     "output_type": "stream",
     "text": [
      "+-------------+-------+\n",
      "|      borough|  trips|\n",
      "+-------------+-------+\n",
      "|       Queens|2468416|\n",
      "|          EWR|  65066|\n",
      "|      Unknown| 387760|\n",
      "|     Brooklyn|3696684|\n",
      "|Staten Island| 177727|\n",
      "|    Manhattan|4553783|\n",
      "|        Bronx|2043492|\n",
      "+-------------+-------+\n",
      "\n"
     ]
    }
   ],
   "source": [
    "spark.sql(\"select borough, count(*) as trips from \\\n",
    "(select zone_data.Borough as borough \\\n",
    "from trip_data join zone_data on trip_data.DOLocationID = zone_data.LocationID)\\\n",
    "group by borough\").show()"
   ]
  },
  {
   "cell_type": "code",
   "execution_count": null,
   "id": "7b92b10b",
   "metadata": {},
   "outputs": [],
   "source": []
  }
 ],
 "metadata": {
  "kernelspec": {
   "display_name": "Python 3",
   "language": "python",
   "name": "python3"
  },
  "language_info": {
   "codemirror_mode": {
    "name": "ipython",
    "version": 3
   },
   "file_extension": ".py",
   "mimetype": "text/x-python",
   "name": "python",
   "nbconvert_exporter": "python",
   "pygments_lexer": "ipython3",
   "version": "3.8.8"
  }
 },
 "nbformat": 4,
 "nbformat_minor": 5
}
