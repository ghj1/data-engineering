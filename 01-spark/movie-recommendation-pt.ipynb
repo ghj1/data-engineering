{
 "cells": [
  {
   "cell_type": "code",
   "execution_count": 1,
   "id": "9c4b6aaf",
   "metadata": {},
   "outputs": [],
   "source": [
    "from pyspark.sql import SparkSession"
   ]
  },
  {
   "cell_type": "code",
   "execution_count": 2,
   "id": "0671023b",
   "metadata": {},
   "outputs": [],
   "source": [
    "MAX_MEMORY = \"5g\"\n",
    "spark = SparkSession.builder.appName(\"movie-recommendation\")\\\n",
    "    .config(\"spark.executor.memory\", MAX_MEMORY)\\\n",
    "    .config(\"spark.driver.memory\", MAX_MEMORY)\\\n",
    "    .getOrCreate()"
   ]
  },
  {
   "cell_type": "code",
   "execution_count": 3,
   "id": "d2dca1fa",
   "metadata": {},
   "outputs": [],
   "source": [
    "ratings_file = \"/Users/gimhyeonjeong/data-engineering/01-spark/data/ml-25m/ratings.csv\"\n",
    "ratings_df = spark.read.csv(f\"file:///{ratings_file}\", inferSchema=True, header= True)"
   ]
  },
  {
   "cell_type": "code",
   "execution_count": 4,
   "id": "98bcf34a",
   "metadata": {},
   "outputs": [
    {
     "name": "stdout",
     "output_type": "stream",
     "text": [
      "+------+-------+------+----------+\n",
      "|userId|movieId|rating| timestamp|\n",
      "+------+-------+------+----------+\n",
      "|     1|    296|   5.0|1147880044|\n",
      "|     1|    306|   3.5|1147868817|\n",
      "|     1|    307|   5.0|1147868828|\n",
      "|     1|    665|   5.0|1147878820|\n",
      "|     1|    899|   3.5|1147868510|\n",
      "|     1|   1088|   4.0|1147868495|\n",
      "|     1|   1175|   3.5|1147868826|\n",
      "|     1|   1217|   3.5|1147878326|\n",
      "|     1|   1237|   5.0|1147868839|\n",
      "|     1|   1250|   4.0|1147868414|\n",
      "|     1|   1260|   3.5|1147877857|\n",
      "|     1|   1653|   4.0|1147868097|\n",
      "|     1|   2011|   2.5|1147868079|\n",
      "|     1|   2012|   2.5|1147868068|\n",
      "|     1|   2068|   2.5|1147869044|\n",
      "|     1|   2161|   3.5|1147868609|\n",
      "|     1|   2351|   4.5|1147877957|\n",
      "|     1|   2573|   4.0|1147878923|\n",
      "|     1|   2632|   5.0|1147878248|\n",
      "|     1|   2692|   5.0|1147869100|\n",
      "+------+-------+------+----------+\n",
      "only showing top 20 rows\n",
      "\n"
     ]
    }
   ],
   "source": [
    "ratings_df.show()"
   ]
  },
  {
   "cell_type": "code",
   "execution_count": 5,
   "id": "04859ed0",
   "metadata": {},
   "outputs": [],
   "source": [
    "ratings_df = ratings_df.select([\"userId\", \"movieId\", \"rating\"])"
   ]
  },
  {
   "cell_type": "code",
   "execution_count": 6,
   "id": "2758ae20",
   "metadata": {},
   "outputs": [
    {
     "name": "stdout",
     "output_type": "stream",
     "text": [
      "root\n",
      " |-- userId: integer (nullable = true)\n",
      " |-- movieId: integer (nullable = true)\n",
      " |-- rating: double (nullable = true)\n",
      "\n"
     ]
    }
   ],
   "source": [
    "ratings_df.printSchema()"
   ]
  },
  {
   "cell_type": "code",
   "execution_count": 7,
   "id": "2f9508f4",
   "metadata": {},
   "outputs": [
    {
     "name": "stdout",
     "output_type": "stream",
     "text": [
      "+-------+------------------+\n",
      "|summary|            rating|\n",
      "+-------+------------------+\n",
      "|  count|          25000095|\n",
      "|   mean| 3.533854451353085|\n",
      "| stddev|1.0607439611423508|\n",
      "|    min|               0.5|\n",
      "|    max|               5.0|\n",
      "+-------+------------------+\n",
      "\n"
     ]
    }
   ],
   "source": [
    "ratings_df.select(\"rating\").describe().show()"
   ]
  },
  {
   "cell_type": "code",
   "execution_count": 8,
   "id": "042e9fb1",
   "metadata": {},
   "outputs": [],
   "source": [
    "train_df, test_df = ratings_df.randomSplit([0.8, 0.2])"
   ]
  },
  {
   "cell_type": "code",
   "execution_count": 9,
   "id": "85bdf2f8",
   "metadata": {},
   "outputs": [],
   "source": [
    "from pyspark.ml.recommendation import ALS"
   ]
  },
  {
   "cell_type": "code",
   "execution_count": 10,
   "id": "788a6b8e",
   "metadata": {},
   "outputs": [],
   "source": [
    "als = ALS(\n",
    "    maxIter=5,\n",
    "    regParam = 0.1,\n",
    "    userCol = \"userId\",\n",
    "    itemCol = \"movieId\",\n",
    "    ratingCol = \"rating\",\n",
    "    coldStartStrategy = \"drop\"\n",
    ")\n",
    "#  coldStartStrategy 학습하지 못한 데이터를 만났을 때 어떻게 대처해야 하는가를 개발자가 설정해 주는 것\n",
    "# NaN과 drop 둘 중 하나를 선택할 수 있다. "
   ]
  },
  {
   "cell_type": "code",
   "execution_count": 11,
   "id": "cd9f3a77",
   "metadata": {},
   "outputs": [],
   "source": [
    "model = als.fit(train_df)"
   ]
  },
  {
   "cell_type": "code",
   "execution_count": 13,
   "id": "0cdab20d",
   "metadata": {},
   "outputs": [],
   "source": [
    "predictions = model.transform(test_df)"
   ]
  },
  {
   "cell_type": "code",
   "execution_count": 14,
   "id": "ad6b8a55",
   "metadata": {},
   "outputs": [
    {
     "name": "stdout",
     "output_type": "stream",
     "text": [
      "+------+-------+------+----------+\n",
      "|userId|movieId|rating|prediction|\n",
      "+------+-------+------+----------+\n",
      "|   101|   8638|   5.0| 3.6144485|\n",
      "|   137|   1645|   3.0|  3.153439|\n",
      "|   243|  44022|   3.0| 2.4311182|\n",
      "|   321| 175197|   0.5| 2.0705743|\n",
      "|   322|   1645|   4.0| 3.6479063|\n",
      "|   497|   1580|   5.0|  3.338778|\n",
      "|   497|   2366|   4.0| 3.9773235|\n",
      "|   501|   1580|   5.0| 3.9613252|\n",
      "|   587|   6466|   4.0|  3.487387|\n",
      "|   597|   1645|   5.0|  3.539884|\n",
      "|   606|   1580|   5.0| 4.2250643|\n",
      "|   606|  44022|   4.5|  4.024259|\n",
      "|   606|  68135|   3.5| 3.9022818|\n",
      "|   606| 160563|   4.0|  4.057866|\n",
      "|   613|   1088|   4.0| 3.1773624|\n",
      "|   626|   1580|   4.0| 3.5669951|\n",
      "|   626|   2366|   3.0| 3.1994846|\n",
      "|   626|  36525|   4.0| 3.4081855|\n",
      "|   626|  44022|   3.0| 3.2233274|\n",
      "|   642|   1580|   3.5| 3.4667833|\n",
      "+------+-------+------+----------+\n",
      "only showing top 20 rows\n",
      "\n"
     ]
    }
   ],
   "source": [
    "predictions.show()"
   ]
  },
  {
   "cell_type": "code",
   "execution_count": 15,
   "id": "a2e63532",
   "metadata": {},
   "outputs": [
    {
     "name": "stdout",
     "output_type": "stream",
     "text": [
      "+-------+------------------+------------------+\n",
      "|summary|            rating|        prediction|\n",
      "+-------+------------------+------------------+\n",
      "|  count|           4995859|           4995859|\n",
      "|   mean|3.5343254283197343|3.4543073999785956|\n",
      "| stddev|1.0608520764224363|0.6509529454659341|\n",
      "|    min|               0.5|        -1.5936148|\n",
      "|    max|               5.0|          6.352272|\n",
      "+-------+------------------+------------------+\n",
      "\n"
     ]
    }
   ],
   "source": [
    "predictions.select(\"rating\", \"prediction\").describe().show()"
   ]
  },
  {
   "cell_type": "code",
   "execution_count": 18,
   "id": "b518ec91",
   "metadata": {},
   "outputs": [],
   "source": [
    "from pyspark.ml.evaluation import RegressionEvaluator \n",
    "evaluator = RegressionEvaluator(metricName=\"rmse\", labelCol=\"rating\", predictionCol=\"prediction\")"
   ]
  },
  {
   "cell_type": "code",
   "execution_count": 19,
   "id": "d7a6c627",
   "metadata": {},
   "outputs": [],
   "source": [
    "rmse = evaluator.evaluate(predictions)"
   ]
  },
  {
   "cell_type": "code",
   "execution_count": 20,
   "id": "d152c950",
   "metadata": {},
   "outputs": [
    {
     "name": "stdout",
     "output_type": "stream",
     "text": [
      "0.8049534420669959\n"
     ]
    }
   ],
   "source": [
    "print(rmse)"
   ]
  },
  {
   "cell_type": "code",
   "execution_count": 21,
   "id": "3ad9c07a",
   "metadata": {},
   "outputs": [
    {
     "name": "stdout",
     "output_type": "stream",
     "text": [
      "+------+--------------------+\n",
      "|userId|     recommendations|\n",
      "+------+--------------------+\n",
      "|    26|[{203086, 5.43596...|\n",
      "|    27|[{203086, 5.96192...|\n",
      "|    28|[{203882, 6.78700...|\n",
      "|    31|[{203882, 3.81420...|\n",
      "|    34|[{203882, 5.46517...|\n",
      "|    44|[{203882, 6.38860...|\n",
      "|    53|[{192089, 6.35343...|\n",
      "|    65|[{122754, 5.69666...|\n",
      "|    76|[{203882, 6.12306...|\n",
      "|    78|[{203882, 6.73146...|\n",
      "|    81|[{203882, 4.67133...|\n",
      "|    85|[{177411, 5.76137...|\n",
      "|   101|[{203882, 5.01555...|\n",
      "|   103|[{203882, 6.06124...|\n",
      "|   108|[{203882, 5.02522...|\n",
      "|   115|[{203882, 5.99085...|\n",
      "|   126|[{203882, 6.05805...|\n",
      "|   133|[{203882, 5.66569...|\n",
      "|   137|[{203086, 5.62483...|\n",
      "|   148|[{203882, 5.69230...|\n",
      "+------+--------------------+\n",
      "only showing top 20 rows\n",
      "\n"
     ]
    }
   ],
   "source": [
    "model.recommendForAllUsers(3).show()"
   ]
  },
  {
   "cell_type": "code",
   "execution_count": 23,
   "id": "ab221aa0",
   "metadata": {},
   "outputs": [
    {
     "name": "stdout",
     "output_type": "stream",
     "text": [
      "+-------+--------------------+\n",
      "|movieId|     recommendations|\n",
      "+-------+--------------------+\n",
      "|     12|[{87426, 5.448573...|\n",
      "|     26|[{105801, 5.12766...|\n",
      "|     27|[{87426, 5.62924}...|\n",
      "|     28|[{67565, 5.860608...|\n",
      "|     31|[{87426, 5.3407},...|\n",
      "|     34|[{67565, 5.82396}...|\n",
      "|     44|[{87426, 5.400751...|\n",
      "|     53|[{18885, 5.702614...|\n",
      "|     65|[{87426, 5.430656...|\n",
      "|     76|[{87426, 5.42044}...|\n",
      "|     78|[{67467, 4.865630...|\n",
      "|     81|[{67467, 4.830916...|\n",
      "|     85|[{67565, 5.188597...|\n",
      "|    101|[{42665, 4.981856...|\n",
      "|    103|[{87426, 5.261060...|\n",
      "|    108|[{86709, 5.803177...|\n",
      "|    115|[{67467, 6.046056...|\n",
      "|    126|[{87426, 5.063264...|\n",
      "|    133|[{67565, 5.763334...|\n",
      "|    137|[{31506, 5.889635...|\n",
      "+-------+--------------------+\n",
      "only showing top 20 rows\n",
      "\n"
     ]
    }
   ],
   "source": [
    "model.recommendForAllItems(3).show()"
   ]
  },
  {
   "cell_type": "code",
   "execution_count": 25,
   "id": "0a5259ee",
   "metadata": {},
   "outputs": [
    {
     "name": "stdout",
     "output_type": "stream",
     "text": [
      "+------+\n",
      "|userId|\n",
      "+------+\n",
      "|    65|\n",
      "|    78|\n",
      "|    81|\n",
      "+------+\n",
      "\n"
     ]
    }
   ],
   "source": [
    "from pyspark.sql.types import IntegerType\n",
    "\n",
    "user_list = [65, 78, 81]\n",
    "users_df = spark.createDataFrame(user_list, IntegerType()).toDF('userId')\n",
    "\n",
    "users_df.show()"
   ]
  },
  {
   "cell_type": "code",
   "execution_count": 34,
   "id": "0f3623fb",
   "metadata": {},
   "outputs": [],
   "source": [
    "user_recs = model.recommendForUserSubset(users_df, 5)"
   ]
  },
  {
   "cell_type": "code",
   "execution_count": 35,
   "id": "1449bba7",
   "metadata": {},
   "outputs": [],
   "source": [
    "movies_list = user_recs.collect()[0].recommendations"
   ]
  },
  {
   "cell_type": "code",
   "execution_count": 40,
   "id": "4fc817e4",
   "metadata": {},
   "outputs": [
    {
     "name": "stdout",
     "output_type": "stream",
     "text": [
      "+-------+------------------+\n",
      "|movieId|            rating|\n",
      "+-------+------------------+\n",
      "| 122754|5.6966657638549805|\n",
      "| 169606| 5.688094139099121|\n",
      "| 178453| 5.593918323516846|\n",
      "| 129516|   5.4950270652771|\n",
      "| 205453| 5.465090274810791|\n",
      "+-------+------------------+\n",
      "\n"
     ]
    }
   ],
   "source": [
    "recs_df = spark.createDataFrame(movies_list)\n",
    "recs_df.show()"
   ]
  },
  {
   "cell_type": "code",
   "execution_count": 41,
   "id": "b498f512",
   "metadata": {},
   "outputs": [],
   "source": [
    "movies_file = \"/Users/gimhyeonjeong/data-engineering/01-spark/data/ml-25m/movies.csv\"\n",
    "movies_df = spark.read.csv(f\"file:///{movies_file}\", inferSchema=True, header= True)"
   ]
  },
  {
   "cell_type": "code",
   "execution_count": 42,
   "id": "73638a32",
   "metadata": {},
   "outputs": [
    {
     "name": "stdout",
     "output_type": "stream",
     "text": [
      "+-------+--------------------+--------------------+\n",
      "|movieId|               title|              genres|\n",
      "+-------+--------------------+--------------------+\n",
      "|      1|    Toy Story (1995)|Adventure|Animati...|\n",
      "|      2|      Jumanji (1995)|Adventure|Childre...|\n",
      "|      3|Grumpier Old Men ...|      Comedy|Romance|\n",
      "|      4|Waiting to Exhale...|Comedy|Drama|Romance|\n",
      "|      5|Father of the Bri...|              Comedy|\n",
      "|      6|         Heat (1995)|Action|Crime|Thri...|\n",
      "|      7|      Sabrina (1995)|      Comedy|Romance|\n",
      "|      8| Tom and Huck (1995)|  Adventure|Children|\n",
      "|      9| Sudden Death (1995)|              Action|\n",
      "|     10|    GoldenEye (1995)|Action|Adventure|...|\n",
      "|     11|American Presiden...|Comedy|Drama|Romance|\n",
      "|     12|Dracula: Dead and...|       Comedy|Horror|\n",
      "|     13|        Balto (1995)|Adventure|Animati...|\n",
      "|     14|        Nixon (1995)|               Drama|\n",
      "|     15|Cutthroat Island ...|Action|Adventure|...|\n",
      "|     16|       Casino (1995)|         Crime|Drama|\n",
      "|     17|Sense and Sensibi...|       Drama|Romance|\n",
      "|     18|   Four Rooms (1995)|              Comedy|\n",
      "|     19|Ace Ventura: When...|              Comedy|\n",
      "|     20|  Money Train (1995)|Action|Comedy|Cri...|\n",
      "+-------+--------------------+--------------------+\n",
      "only showing top 20 rows\n",
      "\n"
     ]
    }
   ],
   "source": [
    "movies_df.show()"
   ]
  },
  {
   "cell_type": "code",
   "execution_count": 44,
   "id": "f80d28f7",
   "metadata": {},
   "outputs": [],
   "source": [
    "# sql에서 사용하기 위해 tempview에 넣기 \n",
    "recs_df.createOrReplaceTempView(\"recommendations\")\n",
    "movies_df.createOrReplaceTempView(\"movies\")"
   ]
  },
  {
   "cell_type": "code",
   "execution_count": 46,
   "id": "3d5c311a",
   "metadata": {},
   "outputs": [
    {
     "name": "stdout",
     "output_type": "stream",
     "text": [
      "+-------+--------------------+--------------------+-------+------------------+\n",
      "|movieId|               title|              genres|movieId|            rating|\n",
      "+-------+--------------------+--------------------+-------+------------------+\n",
      "| 122754|Nemesis 3: Time L...|Action|Sci-Fi|Thr...| 122754|5.6966657638549805|\n",
      "| 169606|Dara O'Briain Cro...|              Comedy| 169606| 5.688094139099121|\n",
      "| 178453|Ukraine on Fire (...|  (no genres listed)| 178453| 5.593918323516846|\n",
      "| 129516|       Poison (1951)|              Comedy| 129516|   5.4950270652771|\n",
      "| 205453|The Good Fight: T...|         Documentary| 205453| 5.465090274810791|\n",
      "+-------+--------------------+--------------------+-------+------------------+\n",
      "\n"
     ]
    }
   ],
   "source": [
    "query = \"\"\"\n",
    "SELECT * \n",
    "FROM \n",
    "    movies JOIN recommendations\n",
    "    ON movies.movieId = recommendations.movieId\n",
    "ORDER BY \n",
    "    rating desc\n",
    "\"\"\"\n",
    "\n",
    "recommended_movies = spark.sql(query)\n",
    "recommended_movies.show()"
   ]
  },
  {
   "cell_type": "code",
   "execution_count": 58,
   "id": "d00b09cd",
   "metadata": {},
   "outputs": [],
   "source": [
    "def get_recommendations(user_id, num_recs):\n",
    "    users_df = spark.createDataFrame([user_id], IntegerType()).toDF('userId')\n",
    "    user_recs_df = model.recommendForUserSubset(users_df, num_recs)\n",
    "    \n",
    "    recs_list = user_recs_df.collect()[0].recommendations\n",
    "    recs_df = spark.createDataFrame(recs_list)\n",
    "    recommended_movies = spark.sql(query)\n",
    "    return recommended_movies"
   ]
  },
  {
   "cell_type": "code",
   "execution_count": 59,
   "id": "26298087",
   "metadata": {},
   "outputs": [],
   "source": [
    "recs = get_recommendations(456, 10)"
   ]
  },
  {
   "cell_type": "code",
   "execution_count": 60,
   "id": "343ea646",
   "metadata": {},
   "outputs": [
    {
     "data": {
      "text/html": [
       "<div>\n",
       "<style scoped>\n",
       "    .dataframe tbody tr th:only-of-type {\n",
       "        vertical-align: middle;\n",
       "    }\n",
       "\n",
       "    .dataframe tbody tr th {\n",
       "        vertical-align: top;\n",
       "    }\n",
       "\n",
       "    .dataframe thead th {\n",
       "        text-align: right;\n",
       "    }\n",
       "</style>\n",
       "<table border=\"1\" class=\"dataframe\">\n",
       "  <thead>\n",
       "    <tr style=\"text-align: right;\">\n",
       "      <th></th>\n",
       "      <th>movieId</th>\n",
       "      <th>title</th>\n",
       "      <th>genres</th>\n",
       "      <th>movieId</th>\n",
       "      <th>rating</th>\n",
       "    </tr>\n",
       "  </thead>\n",
       "  <tbody>\n",
       "    <tr>\n",
       "      <th>0</th>\n",
       "      <td>122754</td>\n",
       "      <td>Nemesis 3: Time Lapse (1996)</td>\n",
       "      <td>Action|Sci-Fi|Thriller</td>\n",
       "      <td>122754</td>\n",
       "      <td>5.696666</td>\n",
       "    </tr>\n",
       "    <tr>\n",
       "      <th>1</th>\n",
       "      <td>169606</td>\n",
       "      <td>Dara O'Briain Crowd Tickler (2015)</td>\n",
       "      <td>Comedy</td>\n",
       "      <td>169606</td>\n",
       "      <td>5.688094</td>\n",
       "    </tr>\n",
       "    <tr>\n",
       "      <th>2</th>\n",
       "      <td>178453</td>\n",
       "      <td>Ukraine on Fire (2016)</td>\n",
       "      <td>(no genres listed)</td>\n",
       "      <td>178453</td>\n",
       "      <td>5.593918</td>\n",
       "    </tr>\n",
       "    <tr>\n",
       "      <th>3</th>\n",
       "      <td>129516</td>\n",
       "      <td>Poison (1951)</td>\n",
       "      <td>Comedy</td>\n",
       "      <td>129516</td>\n",
       "      <td>5.495027</td>\n",
       "    </tr>\n",
       "    <tr>\n",
       "      <th>4</th>\n",
       "      <td>205453</td>\n",
       "      <td>The Good Fight: The Abraham Lincoln Brigade in...</td>\n",
       "      <td>Documentary</td>\n",
       "      <td>205453</td>\n",
       "      <td>5.465090</td>\n",
       "    </tr>\n",
       "  </tbody>\n",
       "</table>\n",
       "</div>"
      ],
      "text/plain": [
       "   movieId                                              title  \\\n",
       "0   122754                       Nemesis 3: Time Lapse (1996)   \n",
       "1   169606                 Dara O'Briain Crowd Tickler (2015)   \n",
       "2   178453                             Ukraine on Fire (2016)   \n",
       "3   129516                                      Poison (1951)   \n",
       "4   205453  The Good Fight: The Abraham Lincoln Brigade in...   \n",
       "\n",
       "                   genres  movieId    rating  \n",
       "0  Action|Sci-Fi|Thriller   122754  5.696666  \n",
       "1                  Comedy   169606  5.688094  \n",
       "2      (no genres listed)   178453  5.593918  \n",
       "3                  Comedy   129516  5.495027  \n",
       "4             Documentary   205453  5.465090  "
      ]
     },
     "execution_count": 60,
     "metadata": {},
     "output_type": "execute_result"
    }
   ],
   "source": [
    "recs.toPandas()"
   ]
  },
  {
   "cell_type": "code",
   "execution_count": 61,
   "id": "e4cf0435",
   "metadata": {},
   "outputs": [],
   "source": [
    "spark.stop()"
   ]
  },
  {
   "cell_type": "code",
   "execution_count": null,
   "id": "6934c2dc",
   "metadata": {},
   "outputs": [],
   "source": []
  }
 ],
 "metadata": {
  "kernelspec": {
   "display_name": "Python 3",
   "language": "python",
   "name": "python3"
  },
  "language_info": {
   "codemirror_mode": {
    "name": "ipython",
    "version": 3
   },
   "file_extension": ".py",
   "mimetype": "text/x-python",
   "name": "python",
   "nbconvert_exporter": "python",
   "pygments_lexer": "ipython3",
   "version": "3.8.8"
  }
 },
 "nbformat": 4,
 "nbformat_minor": 5
}
